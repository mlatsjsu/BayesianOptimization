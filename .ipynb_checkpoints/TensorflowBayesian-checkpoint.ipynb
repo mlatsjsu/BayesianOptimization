{
 "cells": [
  {
   "cell_type": "code",
   "execution_count": 2,
   "metadata": {},
   "outputs": [],
   "source": [
    "import pandas as pd\n",
    "import tensorflow as tf"
   ]
  },
  {
   "cell_type": "markdown",
   "metadata": {},
   "source": [
    "# Read and Prep Data"
   ]
  },
  {
   "cell_type": "code",
   "execution_count": 3,
   "metadata": {},
   "outputs": [],
   "source": [
    "actual_labels=[\n",
    "    \"ID\",\n",
    "    \"Book_Length(mins)_overall\",\n",
    "    \"Book_Length(mins)_avg\",\n",
    "    \"Price_overall\",\n",
    "    \"Price_avg\",\n",
    "    \"Gave_Review\",\n",
    "    \"Review 10/10\",\n",
    "    \"Minutes_listened\",\n",
    "    \"%_completion\",\n",
    "    \"Support_Requests\",\n",
    "    \"Last_visited_minus_purchase_date\",\n",
    "    \"targets\"\n",
    "  ];\n",
    "df = pd.read_csv(\"Business_case_dataset.csv\", names= actual_labels)"
   ]
  },
  {
   "cell_type": "code",
   "execution_count": 4,
   "metadata": {},
   "outputs": [
    {
     "data": {
      "text/html": [
       "<div>\n",
       "<style scoped>\n",
       "    .dataframe tbody tr th:only-of-type {\n",
       "        vertical-align: middle;\n",
       "    }\n",
       "\n",
       "    .dataframe tbody tr th {\n",
       "        vertical-align: top;\n",
       "    }\n",
       "\n",
       "    .dataframe thead th {\n",
       "        text-align: right;\n",
       "    }\n",
       "</style>\n",
       "<table border=\"1\" class=\"dataframe\">\n",
       "  <thead>\n",
       "    <tr style=\"text-align: right;\">\n",
       "      <th></th>\n",
       "      <th>ID</th>\n",
       "      <th>Book_Length(mins)_overall</th>\n",
       "      <th>Book_Length(mins)_avg</th>\n",
       "      <th>Price_overall</th>\n",
       "      <th>Price_avg</th>\n",
       "      <th>Gave_Review</th>\n",
       "      <th>Review 10/10</th>\n",
       "      <th>Minutes_listened</th>\n",
       "      <th>%_completion</th>\n",
       "      <th>Support_Requests</th>\n",
       "      <th>Last_visited_minus_purchase_date</th>\n",
       "      <th>targets</th>\n",
       "    </tr>\n",
       "  </thead>\n",
       "  <tbody>\n",
       "    <tr>\n",
       "      <th>0</th>\n",
       "      <td>873</td>\n",
       "      <td>2160.0</td>\n",
       "      <td>2160</td>\n",
       "      <td>10.13</td>\n",
       "      <td>10.13</td>\n",
       "      <td>0</td>\n",
       "      <td>8.91</td>\n",
       "      <td>0.0</td>\n",
       "      <td>0.0</td>\n",
       "      <td>0</td>\n",
       "      <td>0</td>\n",
       "      <td>1</td>\n",
       "    </tr>\n",
       "    <tr>\n",
       "      <th>1</th>\n",
       "      <td>611</td>\n",
       "      <td>1404.0</td>\n",
       "      <td>2808</td>\n",
       "      <td>6.66</td>\n",
       "      <td>13.33</td>\n",
       "      <td>1</td>\n",
       "      <td>6.50</td>\n",
       "      <td>0.0</td>\n",
       "      <td>0.0</td>\n",
       "      <td>0</td>\n",
       "      <td>182</td>\n",
       "      <td>1</td>\n",
       "    </tr>\n",
       "    <tr>\n",
       "      <th>2</th>\n",
       "      <td>705</td>\n",
       "      <td>324.0</td>\n",
       "      <td>324</td>\n",
       "      <td>10.13</td>\n",
       "      <td>10.13</td>\n",
       "      <td>1</td>\n",
       "      <td>9.00</td>\n",
       "      <td>0.0</td>\n",
       "      <td>0.0</td>\n",
       "      <td>1</td>\n",
       "      <td>334</td>\n",
       "      <td>1</td>\n",
       "    </tr>\n",
       "    <tr>\n",
       "      <th>3</th>\n",
       "      <td>391</td>\n",
       "      <td>1620.0</td>\n",
       "      <td>1620</td>\n",
       "      <td>15.31</td>\n",
       "      <td>15.31</td>\n",
       "      <td>0</td>\n",
       "      <td>9.00</td>\n",
       "      <td>0.0</td>\n",
       "      <td>0.0</td>\n",
       "      <td>0</td>\n",
       "      <td>183</td>\n",
       "      <td>1</td>\n",
       "    </tr>\n",
       "    <tr>\n",
       "      <th>4</th>\n",
       "      <td>819</td>\n",
       "      <td>432.0</td>\n",
       "      <td>1296</td>\n",
       "      <td>7.11</td>\n",
       "      <td>21.33</td>\n",
       "      <td>1</td>\n",
       "      <td>9.00</td>\n",
       "      <td>0.0</td>\n",
       "      <td>0.0</td>\n",
       "      <td>0</td>\n",
       "      <td>0</td>\n",
       "      <td>1</td>\n",
       "    </tr>\n",
       "  </tbody>\n",
       "</table>\n",
       "</div>"
      ],
      "text/plain": [
       "    ID  Book_Length(mins)_overall  Book_Length(mins)_avg  Price_overall  \\\n",
       "0  873                     2160.0                   2160          10.13   \n",
       "1  611                     1404.0                   2808           6.66   \n",
       "2  705                      324.0                    324          10.13   \n",
       "3  391                     1620.0                   1620          15.31   \n",
       "4  819                      432.0                   1296           7.11   \n",
       "\n",
       "   Price_avg  Gave_Review  Review 10/10  Minutes_listened  %_completion  \\\n",
       "0      10.13            0          8.91               0.0           0.0   \n",
       "1      13.33            1          6.50               0.0           0.0   \n",
       "2      10.13            1          9.00               0.0           0.0   \n",
       "3      15.31            0          9.00               0.0           0.0   \n",
       "4      21.33            1          9.00               0.0           0.0   \n",
       "\n",
       "   Support_Requests  Last_visited_minus_purchase_date  targets  \n",
       "0                 0                                 0        1  \n",
       "1                 0                               182        1  \n",
       "2                 1                               334        1  \n",
       "3                 0                               183        1  \n",
       "4                 0                                 0        1  "
      ]
     },
     "execution_count": 4,
     "metadata": {},
     "output_type": "execute_result"
    }
   ],
   "source": [
    "df.head()"
   ]
  },
  {
   "cell_type": "code",
   "execution_count": 137,
   "metadata": {},
   "outputs": [],
   "source": [
    "X= df.iloc[:, 1:-1].copy()"
   ]
  },
  {
   "cell_type": "code",
   "execution_count": 138,
   "metadata": {},
   "outputs": [
    {
     "data": {
      "text/plain": [
       "(14083, 10)"
      ]
     },
     "execution_count": 138,
     "metadata": {},
     "output_type": "execute_result"
    }
   ],
   "source": [
    "X.shape"
   ]
  },
  {
   "cell_type": "code",
   "execution_count": 139,
   "metadata": {},
   "outputs": [
    {
     "data": {
      "text/plain": [
       "10"
      ]
     },
     "execution_count": 139,
     "metadata": {},
     "output_type": "execute_result"
    }
   ],
   "source": [
    "INPUT_SIZE= X.shape[1]\n",
    "INPUT_SIZE"
   ]
  },
  {
   "cell_type": "code",
   "execution_count": 140,
   "metadata": {},
   "outputs": [],
   "source": [
    "y= df.iloc[:, -1:].copy()"
   ]
  },
  {
   "cell_type": "code",
   "execution_count": 141,
   "metadata": {},
   "outputs": [
    {
     "data": {
      "text/html": [
       "<div>\n",
       "<style scoped>\n",
       "    .dataframe tbody tr th:only-of-type {\n",
       "        vertical-align: middle;\n",
       "    }\n",
       "\n",
       "    .dataframe tbody tr th {\n",
       "        vertical-align: top;\n",
       "    }\n",
       "\n",
       "    .dataframe thead th {\n",
       "        text-align: right;\n",
       "    }\n",
       "</style>\n",
       "<table border=\"1\" class=\"dataframe\">\n",
       "  <thead>\n",
       "    <tr style=\"text-align: right;\">\n",
       "      <th></th>\n",
       "      <th>Book_Length(mins)_overall</th>\n",
       "      <th>Book_Length(mins)_avg</th>\n",
       "      <th>Price_overall</th>\n",
       "      <th>Price_avg</th>\n",
       "      <th>Gave_Review</th>\n",
       "      <th>Review 10/10</th>\n",
       "      <th>Minutes_listened</th>\n",
       "      <th>%_completion</th>\n",
       "      <th>Support_Requests</th>\n",
       "      <th>Last_visited_minus_purchase_date</th>\n",
       "    </tr>\n",
       "  </thead>\n",
       "  <tbody>\n",
       "    <tr>\n",
       "      <th>0</th>\n",
       "      <td>1404.0</td>\n",
       "      <td>2808</td>\n",
       "      <td>6.66</td>\n",
       "      <td>13.33</td>\n",
       "      <td>1</td>\n",
       "      <td>6.5</td>\n",
       "      <td>0.0</td>\n",
       "      <td>0.0</td>\n",
       "      <td>0</td>\n",
       "      <td>182</td>\n",
       "    </tr>\n",
       "    <tr>\n",
       "      <th>1</th>\n",
       "      <td>324.0</td>\n",
       "      <td>324</td>\n",
       "      <td>10.13</td>\n",
       "      <td>10.13</td>\n",
       "      <td>1</td>\n",
       "      <td>9.0</td>\n",
       "      <td>0.0</td>\n",
       "      <td>0.0</td>\n",
       "      <td>1</td>\n",
       "      <td>334</td>\n",
       "    </tr>\n",
       "    <tr>\n",
       "      <th>2</th>\n",
       "      <td>1620.0</td>\n",
       "      <td>1620</td>\n",
       "      <td>15.31</td>\n",
       "      <td>15.31</td>\n",
       "      <td>0</td>\n",
       "      <td>9.0</td>\n",
       "      <td>0.0</td>\n",
       "      <td>0.0</td>\n",
       "      <td>0</td>\n",
       "      <td>183</td>\n",
       "    </tr>\n",
       "    <tr>\n",
       "      <th>3</th>\n",
       "      <td>432.0</td>\n",
       "      <td>1296</td>\n",
       "      <td>7.11</td>\n",
       "      <td>21.33</td>\n",
       "      <td>1</td>\n",
       "      <td>9.0</td>\n",
       "      <td>0.0</td>\n",
       "      <td>0.0</td>\n",
       "      <td>0</td>\n",
       "      <td>0</td>\n",
       "    </tr>\n",
       "    <tr>\n",
       "      <th>4</th>\n",
       "      <td>2160.0</td>\n",
       "      <td>2160</td>\n",
       "      <td>10.13</td>\n",
       "      <td>10.13</td>\n",
       "      <td>1</td>\n",
       "      <td>9.0</td>\n",
       "      <td>0.0</td>\n",
       "      <td>0.0</td>\n",
       "      <td>0</td>\n",
       "      <td>5</td>\n",
       "    </tr>\n",
       "  </tbody>\n",
       "</table>\n",
       "</div>"
      ],
      "text/plain": [
       "   Book_Length(mins)_overall  Book_Length(mins)_avg  Price_overall  Price_avg  \\\n",
       "0                     1404.0                   2808           6.66      13.33   \n",
       "1                      324.0                    324          10.13      10.13   \n",
       "2                     1620.0                   1620          15.31      15.31   \n",
       "3                      432.0                   1296           7.11      21.33   \n",
       "4                     2160.0                   2160          10.13      10.13   \n",
       "\n",
       "   Gave_Review  Review 10/10  Minutes_listened  %_completion  \\\n",
       "0            1           6.5               0.0           0.0   \n",
       "1            1           9.0               0.0           0.0   \n",
       "2            0           9.0               0.0           0.0   \n",
       "3            1           9.0               0.0           0.0   \n",
       "4            1           9.0               0.0           0.0   \n",
       "\n",
       "   Support_Requests  Last_visited_minus_purchase_date  \n",
       "0                 0                               182  \n",
       "1                 1                               334  \n",
       "2                 0                               183  \n",
       "3                 0                                 0  \n",
       "4                 0                                 5  "
      ]
     },
     "execution_count": 141,
     "metadata": {},
     "output_type": "execute_result"
    }
   ],
   "source": [
    "X.head()"
   ]
  },
  {
   "cell_type": "code",
   "execution_count": 142,
   "metadata": {},
   "outputs": [],
   "source": [
    "CLASS_LIST=y.targets.unique()\n",
    "NUM_CLASSES=len(CLASS_LIST)"
   ]
  },
  {
   "cell_type": "code",
   "execution_count": 143,
   "metadata": {},
   "outputs": [
    {
     "data": {
      "text/html": [
       "<div>\n",
       "<style scoped>\n",
       "    .dataframe tbody tr th:only-of-type {\n",
       "        vertical-align: middle;\n",
       "    }\n",
       "\n",
       "    .dataframe tbody tr th {\n",
       "        vertical-align: top;\n",
       "    }\n",
       "\n",
       "    .dataframe thead th {\n",
       "        text-align: right;\n",
       "    }\n",
       "</style>\n",
       "<table border=\"1\" class=\"dataframe\">\n",
       "  <thead>\n",
       "    <tr style=\"text-align: right;\">\n",
       "      <th></th>\n",
       "      <th>targets</th>\n",
       "    </tr>\n",
       "  </thead>\n",
       "  <tbody>\n",
       "    <tr>\n",
       "      <th>0</th>\n",
       "      <td>1</td>\n",
       "    </tr>\n",
       "    <tr>\n",
       "      <th>1</th>\n",
       "      <td>1</td>\n",
       "    </tr>\n",
       "    <tr>\n",
       "      <th>2</th>\n",
       "      <td>1</td>\n",
       "    </tr>\n",
       "    <tr>\n",
       "      <th>3</th>\n",
       "      <td>1</td>\n",
       "    </tr>\n",
       "    <tr>\n",
       "      <th>4</th>\n",
       "      <td>1</td>\n",
       "    </tr>\n",
       "  </tbody>\n",
       "</table>\n",
       "</div>"
      ],
      "text/plain": [
       "   targets\n",
       "0        1\n",
       "1        1\n",
       "2        1\n",
       "3        1\n",
       "4        1"
      ]
     },
     "execution_count": 143,
     "metadata": {},
     "output_type": "execute_result"
    }
   ],
   "source": [
    "y.head()"
   ]
  },
  {
   "cell_type": "code",
   "execution_count": 144,
   "metadata": {},
   "outputs": [],
   "source": [
    "y_act= y.squeeze()"
   ]
  },
  {
   "cell_type": "code",
   "execution_count": 145,
   "metadata": {},
   "outputs": [
    {
     "data": {
      "text/plain": [
       "0    1\n",
       "1    1\n",
       "2    1\n",
       "3    1\n",
       "4    1\n",
       "Name: targets, dtype: int64"
      ]
     },
     "execution_count": 145,
     "metadata": {},
     "output_type": "execute_result"
    }
   ],
   "source": [
    "y_act.head()"
   ]
  },
  {
   "cell_type": "markdown",
   "metadata": {},
   "source": [
    "# Split data into Train, Val, Test sets"
   ]
  },
  {
   "cell_type": "code",
   "execution_count": 146,
   "metadata": {},
   "outputs": [],
   "source": [
    "from sklearn.model_selection import train_test_split"
   ]
  },
  {
   "cell_type": "code",
   "execution_count": 147,
   "metadata": {},
   "outputs": [],
   "source": [
    "X_train, X_test1, y_train, y_test1 = train_test_split(X, y, test_size=0.7, random_state=0)"
   ]
  },
  {
   "cell_type": "code",
   "execution_count": 129,
   "metadata": {},
   "outputs": [],
   "source": [
    "X_val, X_test, y_val, y_test= train_test_split(X_test1,y_test1,test_size=0.33,random_state=0)"
   ]
  },
  {
   "cell_type": "code",
   "execution_count": 148,
   "metadata": {},
   "outputs": [],
   "source": [
    "train_data= tf.data.Dataset.from_tensor_slices((X_train.values,y_train.values))\n",
    "validation_data= tf.data.Dataset.from_tensor_slices((X_val.values,y_val.values))\n",
    "test_data= tf.data.Dataset.from_tensor_slices((X_test.values,y_test.values))"
   ]
  },
  {
   "cell_type": "markdown",
   "metadata": {},
   "source": [
    "# Make necessary helper methods"
   ]
  },
  {
   "cell_type": "code",
   "execution_count": 149,
   "metadata": {},
   "outputs": [],
   "source": [
    "def get_layers(num_hidden_layers,width_hidden_layers,input_size=10,output_size=2):\n",
    "    LAYERS=[\n",
    "    # Input layer\n",
    "    tf.keras.layers.Dense(input_size, activation='relu'),\n",
    "    ]\n",
    "    # Hidden Layers\n",
    "    for i in range(int(round(num_hidden_layers))):\n",
    "         LAYERS.append(tf.keras.layers.Dense(int(round(width_hidden_layers)), activation='relu'))\n",
    "    # Output Layer\n",
    "    LAYERS.append(tf.keras.layers.Dense(output_size, activation='softmax'))\n",
    "    return LAYERS"
   ]
  },
  {
   "cell_type": "code",
   "execution_count": 150,
   "metadata": {},
   "outputs": [],
   "source": [
    "def return_model(model_layers):\n",
    "    model = tf.keras.Sequential(model_layers)\n",
    "    return model"
   ]
  },
  {
   "cell_type": "code",
   "execution_count": 151,
   "metadata": {},
   "outputs": [],
   "source": [
    "def get_score(model,test_data):\n",
    "    return model.evaluate(test_data, steps=10, verbose=0)"
   ]
  },
  {
   "cell_type": "markdown",
   "metadata": {},
   "source": [
    "# Implement Optimization here"
   ]
  },
  {
   "cell_type": "code",
   "execution_count": 152,
   "metadata": {},
   "outputs": [],
   "source": [
    "import gc\n",
    "def fit_with(verbosity,train_data,val_data,input_size,output_size,num_hidden_layers,width_hidden_layers, lr,epochs=1):\n",
    "        LAYERS= get_layers(num_hidden_layers,width_hidden_layers,input_size,output_size)\n",
    "        model=return_model(LAYERS)\n",
    "        LOSS= tf.keras.losses.BinaryCrossentropy() if output_size==2 else tf.keras.losses.SparseCategoricalCrossentropy()\n",
    "        # early_stopping= tf.keras.callbacks.EarlyStopping(patience=2)\n",
    "        model.compile(optimizer=tf.keras.optimizers.Adam(learning_rate=lr),\n",
    "              loss=LOSS, \n",
    "              metrics=['accuracy'])\n",
    "        EPOCHS=int(round(epochs))\n",
    "        # Train the model with the train dataset.\n",
    "        model.fit(x=train_data, validation_data=val_data,\n",
    "                  # callbacks=[early_stopping], \n",
    "                  epochs=1, verbose=verbosity)\n",
    "\n",
    "        # Evaluate the model with the eval dataset.\n",
    "        score = get_score(model,val_data)\n",
    "        print('Test loss:', score[0])\n",
    "        print('Test accuracy:', score[1])\n",
    "\n",
    "        # Return the accuracy.\n",
    "        del model\n",
    "        for i in range(10):\n",
    "            gc.collect()\n",
    "        return score[1]\n",
    "    \n",
    "from functools import partial\n",
    "\n",
    "verbose = 1\n",
    "fit_with_partial = partial(fit_with,verbose, train_data, validation_data,INPUT_SIZE,NUM_CLASSES\n",
    "                           # ,num_hidden_layers=2,width_hidden_layers=5\n",
    "                          )"
   ]
  },
  {
   "cell_type": "code",
   "execution_count": 153,
   "metadata": {
    "scrolled": true
   },
   "outputs": [
    {
     "name": "stdout",
     "output_type": "stream",
     "text": [
      "|   iter    |  target   |    lr     | num_hi... | width_... |\n",
      "-------------------------------------------------------------\n",
      "Train for 4224 steps, validate for 6605 steps\n",
      "4224/4224 [==============================] - 29s 7ms/step - loss: 0.7149 - accuracy: 0.8138 - val_loss: 0.6931 - val_accuracy: 0.8413\n",
      "Test loss: 0.6931469440460205\n",
      "Test accuracy: 0.9\n",
      "| \u001b[0m 1       \u001b[0m | \u001b[0m 0.9     \u001b[0m | \u001b[0m 0.00417 \u001b[0m | \u001b[0m 3.161   \u001b[0m | \u001b[0m 5.001   \u001b[0m |\n",
      "Train for 4224 steps, validate for 6605 steps\n",
      "4224/4224 [==============================] - 29s 7ms/step - loss: 0.6991 - accuracy: 0.8167 - val_loss: 0.6931 - val_accuracy: 0.8413\n",
      "Test loss: 0.6931469440460205\n",
      "Test accuracy: 0.9\n",
      "| \u001b[0m 2       \u001b[0m | \u001b[0m 0.9     \u001b[0m | \u001b[0m 0.003023\u001b[0m | \u001b[0m 1.44    \u001b[0m | \u001b[0m 5.462   \u001b[0m |\n",
      "Train for 4224 steps, validate for 6605 steps\n",
      "4224/4224 [==============================] - 28s 7ms/step - loss: 0.7202 - accuracy: 0.5007 - val_loss: 0.6931 - val_accuracy: 0.5000\n",
      "Test loss: 0.6931469440460205\n",
      "Test accuracy: 0.5\n",
      "| \u001b[0m 3       \u001b[0m | \u001b[0m 0.5     \u001b[0m | \u001b[0m 0.001863\u001b[0m | \u001b[0m 2.037   \u001b[0m | \u001b[0m 6.984   \u001b[0m |\n",
      "Train for 4224 steps, validate for 6605 steps\n",
      "4224/4224 [==============================] - 29s 7ms/step - loss: 0.7109 - accuracy: 0.8150 - val_loss: 0.6931 - val_accuracy: 0.8413\n",
      "Test loss: 0.6931469440460205\n",
      "Test accuracy: 0.9\n",
      "| \u001b[0m 4       \u001b[0m | \u001b[0m 0.9     \u001b[0m | \u001b[0m 0.01    \u001b[0m | \u001b[0m 4.0     \u001b[0m | \u001b[0m 10.0    \u001b[0m |\n",
      "Train for 4224 steps, validate for 6605 steps\n",
      "4224/4224 [==============================] - 27s 6ms/step - loss: 1.3597 - accuracy: 0.6184 - val_loss: 0.6931 - val_accuracy: 0.8413\n",
      "Test loss: 0.6931469440460205\n",
      "Test accuracy: 0.9\n",
      "| \u001b[0m 5       \u001b[0m | \u001b[0m 0.9     \u001b[0m | \u001b[0m 0.01    \u001b[0m | \u001b[0m 1.0     \u001b[0m | \u001b[0m 10.0    \u001b[0m |\n",
      "Train for 4224 steps, validate for 6605 steps\n",
      "4224/4224 [==============================] - 25s 6ms/step - loss: 0.7010 - accuracy: 0.5005 - val_loss: 0.6931 - val_accuracy: 0.5000\n",
      "Test loss: 0.6931475937366486\n",
      "Test accuracy: 0.5\n",
      "| \u001b[0m 6       \u001b[0m | \u001b[0m 0.5     \u001b[0m | \u001b[0m 0.007054\u001b[0m | \u001b[0m 1.032   \u001b[0m | \u001b[0m 5.007   \u001b[0m |\n",
      "Train for 4224 steps, validate for 6605 steps\n",
      "4224/4224 [==============================] - 32s 7ms/step - loss: 0.6955 - accuracy: 0.8209 - val_loss: 0.6931 - val_accuracy: 0.8413\n",
      "Test loss: 0.6931469440460205\n",
      "Test accuracy: 0.9\n",
      "| \u001b[0m 7       \u001b[0m | \u001b[0m 0.9     \u001b[0m | \u001b[0m 0.01    \u001b[0m | \u001b[0m 4.0     \u001b[0m | \u001b[0m 7.524   \u001b[0m |\n",
      "Train for 4224 steps, validate for 6605 steps\n",
      "4224/4224 [==============================] - 43s 10ms/step - loss: 0.6943 - accuracy: 0.8203 - val_loss: 0.6931 - val_accuracy: 0.8413\n",
      "Test loss: 0.6931469440460205\n",
      "Test accuracy: 0.9\n",
      "| \u001b[0m 8       \u001b[0m | \u001b[0m 0.9     \u001b[0m | \u001b[0m 0.006911\u001b[0m | \u001b[0m 2.508   \u001b[0m | \u001b[0m 9.994   \u001b[0m |\n",
      "Train for 4224 steps, validate for 6605 steps\n",
      "4224/4224 [==============================] - 29s 7ms/step - loss: 0.6950 - accuracy: 0.7367 - val_loss: 0.6931 - val_accuracy: 0.8413\n",
      "Test loss: 0.6931469440460205\n",
      "Test accuracy: 0.9\n",
      "| \u001b[0m 9       \u001b[0m | \u001b[0m 0.9     \u001b[0m | \u001b[0m 0.01    \u001b[0m | \u001b[0m 4.0     \u001b[0m | \u001b[0m 5.964   \u001b[0m |\n",
      "Train for 4224 steps, validate for 6605 steps\n",
      "4224/4224 [==============================] - 28s 7ms/step - loss: 0.7383 - accuracy: 0.5001 - val_loss: 0.6939 - val_accuracy: 0.5000\n",
      "Test loss: 0.6942199826240539\n",
      "Test accuracy: 0.5\n",
      "| \u001b[0m 10      \u001b[0m | \u001b[0m 0.5     \u001b[0m | \u001b[0m 0.00315 \u001b[0m | \u001b[0m 1.005   \u001b[0m | \u001b[0m 8.577   \u001b[0m |\n",
      "Train for 4224 steps, validate for 6605 steps\n",
      "4224/4224 [==============================] - 36s 9ms/step - loss: 2.6274 - accuracy: 0.5034 - val_loss: 3.0813 - val_accuracy: 0.5000\n",
      "Test loss: 2.939146137237549\n",
      "Test accuracy: 0.5\n",
      "| \u001b[0m 11      \u001b[0m | \u001b[0m 0.5     \u001b[0m | \u001b[0m 1e-10   \u001b[0m | \u001b[0m 4.0     \u001b[0m | \u001b[0m 8.839   \u001b[0m |\n",
      "Train for 4224 steps, validate for 6605 steps\n",
      "4224/4224 [==============================] - 37s 9ms/step - loss: 0.6999 - accuracy: 0.5016 - val_loss: 0.6931 - val_accuracy: 0.5000\n",
      "Test loss: 0.6931469440460205\n",
      "Test accuracy: 0.5\n",
      "| \u001b[0m 12      \u001b[0m | \u001b[0m 0.5     \u001b[0m | \u001b[0m 0.01    \u001b[0m | \u001b[0m 2.633   \u001b[0m | \u001b[0m 5.805   \u001b[0m |\n",
      "Train for 4224 steps, validate for 6605 steps\n",
      "4224/4224 [==============================] - 26s 6ms/step - loss: 2.9834 - accuracy: 0.5157 - val_loss: 3.4069 - val_accuracy: 0.5000\n",
      "Test loss: 3.2497173309326173\n",
      "Test accuracy: 0.5\n",
      "| \u001b[0m 13      \u001b[0m | \u001b[0m 0.5     \u001b[0m | \u001b[0m 1e-10   \u001b[0m | \u001b[0m 1.0     \u001b[0m | \u001b[0m 6.499   \u001b[0m |\n",
      "Train for 4224 steps, validate for 6605 steps\n",
      "4224/4224 [==============================] - 40s 10ms/step - loss: 0.6931 - accuracy: 0.8411 - val_loss: 0.6931 - val_accuracy: 0.8413\n",
      "Test loss: 0.6931469440460205\n",
      "Test accuracy: 0.9\n",
      "| \u001b[0m 14      \u001b[0m | \u001b[0m 0.9     \u001b[0m | \u001b[0m 0.003632\u001b[0m | \u001b[0m 3.972   \u001b[0m | \u001b[0m 5.003   \u001b[0m |\n",
      "Train for 4224 steps, validate for 6605 steps\n",
      "4224/4224 [==============================] - 41s 10ms/step - loss: 0.7127 - accuracy: 0.6479 - val_loss: 0.6931 - val_accuracy: 0.5000\n",
      "Test loss: 0.6931469440460205\n",
      "Test accuracy: 0.5\n",
      "| \u001b[0m 15      \u001b[0m | \u001b[0m 0.5     \u001b[0m | \u001b[0m 0.01    \u001b[0m | \u001b[0m 2.512   \u001b[0m | \u001b[0m 8.605   \u001b[0m |\n",
      "Train for 4224 steps, validate for 6605 steps\n",
      "4224/4224 [==============================] - 28s 7ms/step - loss: 0.6966 - accuracy: 0.5010 - val_loss: 0.6931 - val_accuracy: 0.5000\n",
      "Test loss: 0.6931469023227692\n",
      "Test accuracy: 0.5\n",
      "| \u001b[0m 16      \u001b[0m | \u001b[0m 0.5     \u001b[0m | \u001b[0m 0.001133\u001b[0m | \u001b[0m 2.058   \u001b[0m | \u001b[0m 5.005   \u001b[0m |\n",
      "Train for 4224 steps, validate for 6605 steps\n",
      "4224/4224 [==============================] - 30s 7ms/step - loss: 2.5566 - accuracy: 0.5067 - val_loss: 3.0165 - val_accuracy: 0.5000\n",
      "Test loss: 2.898568630218506\n",
      "Test accuracy: 0.5\n",
      "| \u001b[0m 17      \u001b[0m | \u001b[0m 0.5     \u001b[0m | \u001b[0m 1e-10   \u001b[0m | \u001b[0m 3.447   \u001b[0m | \u001b[0m 6.951   \u001b[0m |\n",
      "Train for 4224 steps, validate for 6605 steps\n",
      "4224/4224 [==============================] - 37s 9ms/step - loss: 0.7380 - accuracy: 0.5000 - val_loss: 0.6942 - val_accuracy: 0.5001\n",
      "Test loss: 0.6945183277130127\n",
      "Test accuracy: 0.5\n",
      "| \u001b[0m 18      \u001b[0m | \u001b[0m 0.5     \u001b[0m | \u001b[0m 0.002776\u001b[0m | \u001b[0m 1.711   \u001b[0m | \u001b[0m 9.999   \u001b[0m |\n",
      "Train for 4224 steps, validate for 6605 steps\n",
      "4224/4224 [==============================] - 28s 7ms/step - loss: 0.6967 - accuracy: 0.5000 - val_loss: 0.6931 - val_accuracy: 0.5000\n",
      "Test loss: 0.6931470811367035\n",
      "Test accuracy: 0.5\n",
      "| \u001b[0m 19      \u001b[0m | \u001b[0m 0.5     \u001b[0m | \u001b[0m 0.008343\u001b[0m | \u001b[0m 3.238   \u001b[0m | \u001b[0m 9.995   \u001b[0m |\n",
      "Train for 4224 steps, validate for 6605 steps\n",
      "4224/4224 [==============================] - 28s 7ms/step - loss: 0.7224 - accuracy: 0.5001 - val_loss: 0.6931 - val_accuracy: 0.5000\n",
      "Test loss: 0.6931470155715942\n",
      "Test accuracy: 0.5\n",
      "| \u001b[0m 20      \u001b[0m | \u001b[0m 0.5     \u001b[0m | \u001b[0m 0.003811\u001b[0m | \u001b[0m 3.997   \u001b[0m | \u001b[0m 6.757   \u001b[0m |\n",
      "Train for 4224 steps, validate for 6605 steps\n",
      "4224/4224 [==============================] - 45s 11ms/step - loss: 0.7000 - accuracy: 0.6875 - val_loss: 0.6931 - val_accuracy: 0.8413\n",
      "Test loss: 0.6931469440460205\n",
      "Test accuracy: 0.9\n",
      "| \u001b[0m 21      \u001b[0m | \u001b[0m 0.9     \u001b[0m | \u001b[0m 0.01    \u001b[0m | \u001b[0m 3.271   \u001b[0m | \u001b[0m 7.934   \u001b[0m |\n",
      "Train for 4224 steps, validate for 6605 steps\n",
      "4224/4224 [==============================] - 36s 9ms/step - loss: 1.2225 - accuracy: 0.7230 - val_loss: 0.6931 - val_accuracy: 0.8413\n",
      "Test loss: 0.6931469440460205\n",
      "Test accuracy: 0.9\n",
      "| \u001b[0m 22      \u001b[0m | \u001b[0m 0.9     \u001b[0m | \u001b[0m 0.01    \u001b[0m | \u001b[0m 1.0     \u001b[0m | \u001b[0m 7.602   \u001b[0m |\n",
      "Train for 4224 steps, validate for 6605 steps\n",
      "4224/4224 [==============================] - 33s 8ms/step - loss: 0.6987 - accuracy: 0.8180 - val_loss: 0.6931 - val_accuracy: 0.8413\n",
      "Test loss: 0.6931469440460205\n",
      "Test accuracy: 0.9\n",
      "| \u001b[0m 23      \u001b[0m | \u001b[0m 0.9     \u001b[0m | \u001b[0m 0.01    \u001b[0m | \u001b[0m 1.791   \u001b[0m | \u001b[0m 7.872   \u001b[0m |\n",
      "=============================================================\n",
      "Iteration 0: \n",
      "\t{'target': 0.8999999761581421, 'params': {'lr': 0.0041702201053235395, 'num_hidden_layers': 3.1609734803264744, 'width_hidden_layers': 5.000571874086725}}\n",
      "Iteration 1: \n",
      "\t{'target': 0.8999999761581421, 'params': {'lr': 0.003023325796085141, 'num_hidden_layers': 1.440267672451339, 'width_hidden_layers': 5.461692973843989}}\n",
      "Iteration 2: \n",
      "\t{'target': 0.5, 'params': {'lr': 0.001862602195150688, 'num_hidden_layers': 2.036682181129143, 'width_hidden_layers': 6.983837371153349}}\n",
      "Iteration 3: \n",
      "\t{'target': 0.8999999761581421, 'params': {'lr': 0.01, 'num_hidden_layers': 4.0, 'width_hidden_layers': 10.0}}\n",
      "Iteration 4: \n",
      "\t{'target': 0.8999999761581421, 'params': {'lr': 0.01, 'num_hidden_layers': 1.0, 'width_hidden_layers': 10.0}}\n",
      "Iteration 5: \n",
      "\t{'target': 0.5, 'params': {'lr': 0.007053654139139341, 'num_hidden_layers': 1.03213048294299, 'width_hidden_layers': 5.007481450824219}}\n",
      "Iteration 6: \n",
      "\t{'target': 0.8999999761581421, 'params': {'lr': 0.01, 'num_hidden_layers': 4.0, 'width_hidden_layers': 7.523923334858353}}\n",
      "Iteration 7: \n",
      "\t{'target': 0.8999999761581421, 'params': {'lr': 0.006911398169616554, 'num_hidden_layers': 2.5079076075399627, 'width_hidden_layers': 9.994158046397654}}\n",
      "Iteration 8: \n",
      "\t{'target': 0.8999999761581421, 'params': {'lr': 0.01, 'num_hidden_layers': 4.0, 'width_hidden_layers': 5.9639951821706845}}\n",
      "Iteration 9: \n",
      "\t{'target': 0.5, 'params': {'lr': 0.003149988346972272, 'num_hidden_layers': 1.0047689681993361, 'width_hidden_layers': 8.577154214892882}}\n",
      "Iteration 10: \n",
      "\t{'target': 0.5, 'params': {'lr': 1e-10, 'num_hidden_layers': 4.0, 'width_hidden_layers': 8.838571989459835}}\n",
      "Iteration 11: \n",
      "\t{'target': 0.5, 'params': {'lr': 0.01, 'num_hidden_layers': 2.632813451868598, 'width_hidden_layers': 5.8050104730932075}}\n",
      "Iteration 12: \n",
      "\t{'target': 0.5, 'params': {'lr': 1e-10, 'num_hidden_layers': 1.0, 'width_hidden_layers': 6.498886742573339}}\n",
      "Iteration 13: \n",
      "\t{'target': 0.8999999761581421, 'params': {'lr': 0.0036317074269370097, 'num_hidden_layers': 3.9715847147384236, 'width_hidden_layers': 5.003448606807643}}\n",
      "Iteration 14: \n",
      "\t{'target': 0.5, 'params': {'lr': 0.01, 'num_hidden_layers': 2.5119911454301684, 'width_hidden_layers': 8.605244701264265}}\n",
      "Iteration 15: \n",
      "\t{'target': 0.5, 'params': {'lr': 0.0011334314786430402, 'num_hidden_layers': 2.058109871016038, 'width_hidden_layers': 5.005125486123034}}\n",
      "Iteration 16: \n",
      "\t{'target': 0.5, 'params': {'lr': 1e-10, 'num_hidden_layers': 3.4473916861937144, 'width_hidden_layers': 6.950681271690389}}\n",
      "Iteration 17: \n",
      "\t{'target': 0.5, 'params': {'lr': 0.002775771426779996, 'num_hidden_layers': 1.711029868326461, 'width_hidden_layers': 9.998891167642316}}\n",
      "Iteration 18: \n",
      "\t{'target': 0.5, 'params': {'lr': 0.008343482219547928, 'num_hidden_layers': 3.2380996667776785, 'width_hidden_layers': 9.9954445388136}}\n",
      "Iteration 19: \n",
      "\t{'target': 0.5, 'params': {'lr': 0.003811100917920428, 'num_hidden_layers': 3.9970095699478048, 'width_hidden_layers': 6.756529747908361}}\n",
      "Iteration 20: \n",
      "\t{'target': 0.8999999761581421, 'params': {'lr': 0.01, 'num_hidden_layers': 3.2711018260955016, 'width_hidden_layers': 7.934381737582556}}\n",
      "Iteration 21: \n",
      "\t{'target': 0.8999999761581421, 'params': {'lr': 0.01, 'num_hidden_layers': 1.0, 'width_hidden_layers': 7.601782388232375}}\n",
      "Iteration 22: \n",
      "\t{'target': 0.8999999761581421, 'params': {'lr': 0.01, 'num_hidden_layers': 1.7914496216968803, 'width_hidden_layers': 7.872333257805614}}\n",
      "{'target': 0.8999999761581421, 'params': {'lr': 0.0041702201053235395, 'num_hidden_layers': 3.1609734803264744, 'width_hidden_layers': 5.000571874086725}}\n"
     ]
    }
   ],
   "source": [
    "from bayes_opt import BayesianOptimization\n",
    "# Bounded region of parameter space\n",
    "pbounds = {'lr': (1e-10, 1e-2),\n",
    "          'num_hidden_layers': (1,4),\n",
    "          'width_hidden_layers': (5,10),\n",
    "           # 'epochs': (5, 20),\n",
    "          }\n",
    "\n",
    "optimizer = BayesianOptimization(\n",
    "    f=fit_with_partial,\n",
    "    pbounds=pbounds,\n",
    "    verbose=2,  # verbose = 1 prints only when a maximum is observed, verbose = 0 is silent\n",
    "    random_state=1,\n",
    ")\n",
    "\n",
    "optimizer.maximize(init_points=3, n_iter=20)\n",
    "\n",
    "\n",
    "for i, res in enumerate(optimizer.res):\n",
    "    print(\"Iteration {}: \\n\\t{}\".format(i, res))\n",
    "\n",
    "print(optimizer.max)"
   ]
  },
  {
   "cell_type": "code",
   "execution_count": 156,
   "metadata": {},
   "outputs": [
    {
     "name": "stdout",
     "output_type": "stream",
     "text": [
      "{'target': 0.8999999761581421, 'params': {'lr': 0.0041702201053235395, 'num_hidden_layers': 3.1609734803264744, 'width_hidden_layers': 5.000571874086725}}\n"
     ]
    }
   ],
   "source": [
    "best_lr = optimizer.max['params']['lr']\n",
    "best_num_hl= optimizer.max['params']['num_hidden_layers']\n",
    "best_width_hl= optimizer.max['params']['width_hidden_layers']\n",
    "# best_epochs = optimizer.max['params']['epochs']\n",
    "print(optimizer.max)"
   ]
  },
  {
   "cell_type": "markdown",
   "metadata": {},
   "source": [
    "# Try best params here"
   ]
  },
  {
   "cell_type": "code",
   "execution_count": 157,
   "metadata": {},
   "outputs": [
    {
     "name": "stdout",
     "output_type": "stream",
     "text": [
      "Train for 4224 steps, validate for 10 steps\n",
      "Epoch 1/10\n",
      "4224/4224 - 14s - loss: 0.6931 - accuracy: 0.8411 - val_loss: 0.6931 - val_accuracy: 0.9000\n",
      "Epoch 2/10\n",
      "4224/4224 - 14s - loss: 0.6931 - accuracy: 0.8411 - val_loss: 0.6931 - val_accuracy: 0.9000\n",
      "Epoch 3/10\n",
      "4224/4224 - 14s - loss: 0.6931 - accuracy: 0.8411 - val_loss: 0.6931 - val_accuracy: 0.9000\n",
      "Epoch 4/10\n",
      "4224/4224 - 15s - loss: 0.6931 - accuracy: 0.8411 - val_loss: 0.6931 - val_accuracy: 0.9000\n",
      "Epoch 5/10\n",
      "4224/4224 - 15s - loss: 0.6931 - accuracy: 0.8411 - val_loss: 0.6931 - val_accuracy: 0.9000\n",
      "Epoch 6/10\n",
      "4224/4224 - 24s - loss: 0.6931 - accuracy: 0.8411 - val_loss: 0.6931 - val_accuracy: 0.9000\n",
      "Epoch 7/10\n",
      "4224/4224 - 13s - loss: 0.6931 - accuracy: 0.8411 - val_loss: 0.6931 - val_accuracy: 0.9000\n",
      "Epoch 8/10\n",
      "4224/4224 - 13s - loss: 0.6931 - accuracy: 0.8411 - val_loss: 0.6931 - val_accuracy: 0.9000\n",
      "Epoch 9/10\n",
      "4224/4224 - 14s - loss: 0.6931 - accuracy: 0.8411 - val_loss: 0.6931 - val_accuracy: 0.9000\n",
      "Epoch 10/10\n",
      "4224/4224 - 16s - loss: 0.6931 - accuracy: 0.8411 - val_loss: 0.6931 - val_accuracy: 0.9000\n"
     ]
    },
    {
     "data": {
      "text/plain": [
       "<tensorflow.python.keras.callbacks.History at 0x276073f9b48>"
      ]
     },
     "execution_count": 157,
     "metadata": {},
     "output_type": "execute_result"
    }
   ],
   "source": [
    "# epochs = int(best_epochs)\n",
    "epochs=10\n",
    "num_hidden_layers=2\n",
    "width_hidden_layers=5\n",
    "early_stop=tf.keras\n",
    "model = return_model(get_layers(best_num_hl,best_width_hl,INPUT_SIZE,NUM_CLASSES))\n",
    "model.compile(optimizer=tf.keras.optimizers.Adam(learning_rate=best_lr), \n",
    "              loss=tf.keras.losses.BinaryCrossentropy(),\n",
    "              metrics=['accuracy'])\n",
    "\n",
    "model.fit(x=train_data,\n",
    "         epochs=epochs,\n",
    "         validation_data=validation_data,\n",
    "         validation_steps=10,\n",
    "         verbose=2\n",
    "         )"
   ]
  },
  {
   "cell_type": "code",
   "execution_count": 158,
   "metadata": {},
   "outputs": [
    {
     "data": {
      "text/plain": [
       "[0.6931469440460205, 0.9]"
      ]
     },
     "execution_count": 158,
     "metadata": {},
     "output_type": "execute_result"
    }
   ],
   "source": [
    "get_score(model,test_data)"
   ]
  },
  {
   "cell_type": "code",
   "execution_count": null,
   "metadata": {},
   "outputs": [],
   "source": []
  }
 ],
 "metadata": {
  "kernelspec": {
   "display_name": "Python 3",
   "language": "python",
   "name": "python3"
  },
  "language_info": {
   "codemirror_mode": {
    "name": "ipython",
    "version": 3
   },
   "file_extension": ".py",
   "mimetype": "text/x-python",
   "name": "python",
   "nbconvert_exporter": "python",
   "pygments_lexer": "ipython3",
   "version": "3.7.4"
  }
 },
 "nbformat": 4,
 "nbformat_minor": 4
}
